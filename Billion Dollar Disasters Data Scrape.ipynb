{
 "cells": [
  {
   "cell_type": "markdown",
   "id": "ce55b706-c8a8-4234-b859-e17ba8a296e4",
   "metadata": {},
   "source": [
    "# Billion Dollar Disasters Data Scrape"
   ]
  },
  {
   "cell_type": "markdown",
   "id": "360f0c89-6f3c-4055-b9a9-ba31228e70f3",
   "metadata": {},
   "source": [
    "### In this notebook, I scrape data from the NOAA website on Billion Dollar Disasters (disasters that have cost over an estimated $1 billion). I use Playwright and BeautifulSoup in Python."
   ]
  },
  {
   "cell_type": "code",
   "execution_count": 1,
   "id": "6c9025cd-af1c-4617-90b4-b1839f8ba993",
   "metadata": {},
   "outputs": [],
   "source": [
    "from bs4 import BeautifulSoup"
   ]
  },
  {
   "cell_type": "code",
   "execution_count": 2,
   "id": "f47d37db-dd5a-4d08-aadc-c543b279e2ae",
   "metadata": {},
   "outputs": [],
   "source": [
    "from playwright.async_api import async_playwright"
   ]
  },
  {
   "cell_type": "code",
   "execution_count": 3,
   "id": "adaa852a-2994-436c-9463-5324f896df37",
   "metadata": {},
   "outputs": [],
   "source": [
    "import os\n",
    "\n",
    "playwright = await async_playwright().start()\n",
    "browser = await playwright.chromium.launch(headless=False)"
   ]
  },
  {
   "cell_type": "code",
   "execution_count": 4,
   "id": "442ae1dc-a96e-413e-a0ba-5b6b800f228c",
   "metadata": {},
   "outputs": [],
   "source": [
    "page = await browser.new_page()"
   ]
  },
  {
   "cell_type": "code",
   "execution_count": 5,
   "id": "85b6bcac-39dc-4b89-a57f-794c1ee38df2",
   "metadata": {},
   "outputs": [
    {
     "data": {
      "text/plain": [
       "<Response url='https://www.ncei.noaa.gov/access/billions/events/US/1980-2024?disasters[]=wildfire' request=<Request url='https://www.ncei.noaa.gov/access/billions/events/US/1980-2024?disasters[]=wildfire' method='GET'>>"
      ]
     },
     "execution_count": 5,
     "metadata": {},
     "output_type": "execute_result"
    }
   ],
   "source": [
    "await page.goto(\"https://www.ncei.noaa.gov/access/billions/events/US/1980-2024?disasters[]=wildfire\")"
   ]
  },
  {
   "cell_type": "code",
   "execution_count": 6,
   "id": "41cb73a4-ffc8-45aa-9d28-b10cda2b198d",
   "metadata": {},
   "outputs": [],
   "source": [
    "html = await page.content()"
   ]
  },
  {
   "cell_type": "code",
   "execution_count": 7,
   "id": "f219a6f6-05e5-4599-841f-8ffe251c687e",
   "metadata": {},
   "outputs": [],
   "source": [
    "soup_doc = BeautifulSoup(html)"
   ]
  },
  {
   "cell_type": "code",
   "execution_count": 8,
   "id": "b036cf46-4edd-483e-9e7f-000ed54108dc",
   "metadata": {},
   "outputs": [],
   "source": [
    "all_disasters_html = soup_doc.find(class_='hscrollbox')"
   ]
  },
  {
   "cell_type": "code",
   "execution_count": 9,
   "id": "73ade93e-baac-484a-a700-c00fae9bb98d",
   "metadata": {},
   "outputs": [],
   "source": [
    "all_disasters = all_disasters_html.find('tbody').find_all('tr')"
   ]
  },
  {
   "cell_type": "code",
   "execution_count": 10,
   "id": "a8bc1d9d-49ae-42be-9472-48780609e1a2",
   "metadata": {},
   "outputs": [
    {
     "data": {
      "text/plain": [
       "<tr class=\"all-disasters severe-storm TX SCR GCS SP TA adj\" data-disaster=\"severe-storm\" data-year=\"2024\" id=\"event-20240528-20240527-severe-storm1\" role=\"row\" style=\"display: none;\"><td class=\"event-name\"><a href=\"/access/monitoring/monthly-report/national/202402\"><div class=\"name\">Texas Hail Storms</div><div class=\"dates\">May 2024</div></a></td><td class=\"disaster-type\" data-sortval=\"Severe Storm\"><span class=\"ind severe-storm-ind\" title=\"Severe Storm\"></span>Severe Storm</td><td class=\"date beg-date right\" data-sortval=\"20240527\">May 27, 2024</td><td class=\"date end-date right primary\" data-sortval=\"20240528\">May 28, 2024</td><td class=\"details\">Golfball to softball-sized hail caused extensive damage across north and east Texas. Some of these hail storms impacted major cities including Dallas and Houston where homes, vehicles, businesses and other infrastructure were damaged.</td><td class=\"cost\" data-sortval=\"2.3\">$2.3 <sup><a class=\"btn small ciac\" data-bs-target=\"#ci-display\" data-bs-toggle=\"modal\" data-cost=\"2.3\" data-cpi=\"CPI-Adjusted\" data-date=\"May 2024\" data-disaster=\"severe-storm\" data-lower75=\"2.1\" data-lower90=\"2.0\" data-lower95=\"1.9\" data-title=\"Texas Hail Storms\" data-upper75=\"2.6\" data-upper90=\"2.6\" data-upper95=\"2.7\" href=\"#\" title=\"Texas Hail Storms (May 2024) Cost Confidence Intervals\">CI</a></sup></td><td class=\"deaths\" data-sortval=\"1\">1</td></tr>"
      ]
     },
     "execution_count": 10,
     "metadata": {},
     "output_type": "execute_result"
    }
   ],
   "source": [
    "all_disasters[24]"
   ]
  },
  {
   "cell_type": "code",
   "execution_count": 11,
   "id": "925f2e3c-4c73-40a1-980e-27f3d4795c3c",
   "metadata": {},
   "outputs": [
    {
     "data": {
      "text/plain": [
       "[{'event_name': 'Southern/Eastern/Northwestern Drought and Heat Wave',\n",
       "  'disaster_type': 'Drought',\n",
       "  'begin_date': 'Jan 1, 2024',\n",
       "  'end_date': 'Dec 31, 2024',\n",
       "  'details': 'Drought conditions impacted many Southern, Eastern and Northwestern states. This drought was more transient in its impacts over numerous states throughout the year. The states of Texas, Oklahoma and Kansas had some of the highest losses to crops from the effects of drought and heat. As the drought changed in intensity and duration throughout the year across several regions of the country. Several Northwestern states also had costly impacted to agriculture including Montana, Idaho and Washington. Numerous southern and eastern states from Mississippi through Pennsylvania also experienced crop impacts that were most severe in the Summer months. The drought conditions also strengthen through the Fall and Winter months impacting Maryland, Delaware and New Jersey. It was also one of the hottest years on record for a number of these states, which claimed more than 100 lives from excessive heat exposure. ',\n",
       "  'cost': '$5.4 CI',\n",
       "  'deaths': '136'},\n",
       " {'event_name': 'Southern/Eastern/Northwestern Drought and Heat Wave',\n",
       "  'disaster_type': 'Drought',\n",
       "  'begin_date': 'Jan 1, 2024',\n",
       "  'end_date': 'Dec 31, 2024',\n",
       "  'details': 'Drought conditions impacted many Southern, Eastern and Northwestern states. This drought was more transient in its impacts over numerous states throughout the year. The states of Texas, Oklahoma and Kansas had some of the highest losses to crops from the effects of drought and heat. As the drought changed in intensity and duration throughout the year across several regions of the country. Several Northwestern states also had costly impacted to agriculture including Montana, Idaho and Washington. Numerous southern and eastern states from Mississippi through Pennsylvania also experienced crop impacts that were most severe in the Summer months. The drought conditions also strengthen through the Fall and Winter months impacting Maryland, Delaware and New Jersey. It was also one of the hottest years on record for a number of these states, which claimed more than 100 lives from excessive heat exposure. ',\n",
       "  'cost': '$5.3 CI',\n",
       "  'deaths': '136'},\n",
       " {'event_name': 'Hurricane Milton',\n",
       "  'disaster_type': 'Tropical Cyclone',\n",
       "  'begin_date': 'Oct 9, 2024',\n",
       "  'end_date': 'Oct 10, 2024',\n",
       "  'details': \"Category 3 Hurricane Milton with 120 mph sustained winds made landfall near Siesta Key, Florida on October 9. A storm surge of 5 to 10 feet cased damage from Naples to Charlotte Harbor. Milton's track to the south of Tampa Bay lessened storm surge impacts on the densely populated Tampa metro region. Dozens of tornadoes were also spawn from Milton that damaged many homes, businesses, vehicles and other infrastructure across southern Florida. Milton underwent rapid intensification into a Category 5 hurricane with 180 mph sustained winds and a 897 mb central pressure reading. An environment of enhanced wind shear the day prior to landfall reduced Milton's peak wind potential. \",\n",
       "  'cost': '$34.3 CI',\n",
       "  'deaths': '32'},\n",
       " {'event_name': 'Hurricane Milton',\n",
       "  'disaster_type': 'Tropical Cyclone',\n",
       "  'begin_date': 'Oct 9, 2024',\n",
       "  'end_date': 'Oct 10, 2024',\n",
       "  'details': \"Category 3 Hurricane Milton with 120 mph sustained winds made landfall near Siesta Key, Florida on October 9. A storm surge of 5 to 10 feet cased damage from Naples to Charlotte Harbor. Milton's track to the south of Tampa Bay lessened storm surge impacts on the densely populated Tampa metro region. Dozens of tornadoes were also spawn from Milton that damaged many homes, businesses, vehicles and other infrastructure across southern Florida. Milton underwent rapid intensification into a Category 5 hurricane with 180 mph sustained winds and a 897 mb central pressure reading. An environment of enhanced wind shear the day prior to landfall reduced Milton's peak wind potential. \",\n",
       "  'cost': '$34.3 CI',\n",
       "  'deaths': '32'},\n",
       " {'event_name': 'Hurricane Helene',\n",
       "  'disaster_type': 'Tropical Cyclone',\n",
       "  'begin_date': 'Sep 24, 2024',\n",
       "  'end_date': 'Sep 29, 2024',\n",
       "  'details': \"Category 4 Hurricane Helene with 140 mph sustained winds was the strongest hurricane on record to strike the Big Bend region of Florida having made landfall near Perry, Florida on September 26. Helene was the third hurricane to hit the Big Bend region in just over a year. It caused up to 15 feet of storm surge along the Big Bend coast and six feet of surge as far south as St. Petersburg. It also caused billions of dollars in damage to Georgia's agriculture sector. Helene's most severe impacts were from the historic rainfall (up to 30+ inches) and flooding across much of western North Carolina. This flooding eclipsed the region's previous worst flood from 1916. Asheville and many surrounding cities and communities were heavily impacted. Southwestern Virginia and extreme eastern Tennessee were also heavily impacted. Damage came in many forms. Landslides, debris flows, and historic levels of flooding inundated and destroyed homes, businesses, parks, hospitals, the electrical, cellular and water system infrastructure, and damaged thousands of roads, highways and bridges, as examples. Additional information is currently being assembled that summarizes the vast scope of damage produced by Helene. Helene was the deadliest Atlantic hurricane since Maria (2017), and the deadliest to strike the U.S. mainland since Katrina (2005).\",\n",
       "  'cost': '$78.7 CI',\n",
       "  'deaths': '219'}]"
      ]
     },
     "execution_count": 11,
     "metadata": {},
     "output_type": "execute_result"
    }
   ],
   "source": [
    "count = 0\n",
    "\n",
    "disaster_list = []\n",
    "\n",
    "for disaster_html in all_disasters: \n",
    "    disaster_dict = {}\n",
    "    count = count + 1\n",
    "    event_name = disaster_html.find(class_='event-name').find(class_='name').text\n",
    "    #print(event_name)\n",
    "    disaster_type = disaster_html.find(class_='disaster-type').find('span').next\n",
    "    #print(disaster_type)\n",
    "    if disaster_html.find(class_='monthAbbr'):\n",
    "        begin_month = disaster_html.find(class_='monthAbbr').text\n",
    "        begin_day_year = disaster_html.find(class_='monthLong').next_sibling\n",
    "        begin_date = begin_month + begin_day_year\n",
    "        #print(begin_date)\n",
    "    elif disaster_html.find(class_='date beg-date right'):\n",
    "        begin_date = disaster_html.find(class_='date beg-date right').text\n",
    "        #print(begin_date)\n",
    "    if disaster_html.find(class_='date end-date right primary').find('span'):\n",
    "        end_month = disaster_html.find(class_='date end-date right primary').find('span').text\n",
    "        end_day_year = disaster_html.find(class_='date end-date right primary').find_all('span')[1].next_sibling\n",
    "        end_date = end_month + end_day_year \n",
    "        #print(end_date)\n",
    "    elif disaster_html.find(class_='date end-date right primary'):\n",
    "        end_date = disaster_html.find(class_='date end-date right primary').text\n",
    "        #print(end_date)\n",
    "    else: \n",
    "        print(\"ERROR!!!\")\n",
    "        print(count)\n",
    "    details = disaster_html.find(class_='details').text\n",
    "    cost = disaster_html.find(class_='cost').text\n",
    "    deaths = disaster_html.find(class_='deaths').text\n",
    "\n",
    "    disaster_dict['event_name'] = event_name\n",
    "    disaster_dict['disaster_type'] = disaster_type\n",
    "    disaster_dict['begin_date'] = begin_date\n",
    "    disaster_dict['end_date'] = end_date\n",
    "    disaster_dict['details'] = details\n",
    "    disaster_dict['cost'] = cost\n",
    "    disaster_dict['deaths'] = deaths\n",
    "\n",
    "    disaster_list.append(disaster_dict)\n",
    "\n",
    "disaster_list[0:5]"
   ]
  },
  {
   "cell_type": "code",
   "execution_count": 12,
   "id": "0d9bfe85-35ac-40c6-bcfc-cae393191531",
   "metadata": {},
   "outputs": [
    {
     "data": {
      "text/html": [
       "<div>\n",
       "<style scoped>\n",
       "    .dataframe tbody tr th:only-of-type {\n",
       "        vertical-align: middle;\n",
       "    }\n",
       "\n",
       "    .dataframe tbody tr th {\n",
       "        vertical-align: top;\n",
       "    }\n",
       "\n",
       "    .dataframe thead th {\n",
       "        text-align: right;\n",
       "    }\n",
       "</style>\n",
       "<table border=\"1\" class=\"dataframe\">\n",
       "  <thead>\n",
       "    <tr style=\"text-align: right;\">\n",
       "      <th></th>\n",
       "      <th>event_name</th>\n",
       "      <th>disaster_type</th>\n",
       "      <th>begin_date</th>\n",
       "      <th>end_date</th>\n",
       "      <th>details</th>\n",
       "      <th>cost</th>\n",
       "      <th>deaths</th>\n",
       "    </tr>\n",
       "  </thead>\n",
       "  <tbody>\n",
       "    <tr>\n",
       "      <th>0</th>\n",
       "      <td>Southern/Eastern/Northwestern Drought and Heat...</td>\n",
       "      <td>Drought</td>\n",
       "      <td>Jan 1, 2024</td>\n",
       "      <td>Dec 31, 2024</td>\n",
       "      <td>Drought conditions impacted many Southern, Eas...</td>\n",
       "      <td>$5.4 CI</td>\n",
       "      <td>136</td>\n",
       "    </tr>\n",
       "    <tr>\n",
       "      <th>1</th>\n",
       "      <td>Southern/Eastern/Northwestern Drought and Heat...</td>\n",
       "      <td>Drought</td>\n",
       "      <td>Jan 1, 2024</td>\n",
       "      <td>Dec 31, 2024</td>\n",
       "      <td>Drought conditions impacted many Southern, Eas...</td>\n",
       "      <td>$5.3 CI</td>\n",
       "      <td>136</td>\n",
       "    </tr>\n",
       "    <tr>\n",
       "      <th>2</th>\n",
       "      <td>Hurricane Milton</td>\n",
       "      <td>Tropical Cyclone</td>\n",
       "      <td>Oct 9, 2024</td>\n",
       "      <td>Oct 10, 2024</td>\n",
       "      <td>Category 3 Hurricane Milton with 120 mph susta...</td>\n",
       "      <td>$34.3 CI</td>\n",
       "      <td>32</td>\n",
       "    </tr>\n",
       "    <tr>\n",
       "      <th>3</th>\n",
       "      <td>Hurricane Milton</td>\n",
       "      <td>Tropical Cyclone</td>\n",
       "      <td>Oct 9, 2024</td>\n",
       "      <td>Oct 10, 2024</td>\n",
       "      <td>Category 3 Hurricane Milton with 120 mph susta...</td>\n",
       "      <td>$34.3 CI</td>\n",
       "      <td>32</td>\n",
       "    </tr>\n",
       "    <tr>\n",
       "      <th>4</th>\n",
       "      <td>Hurricane Helene</td>\n",
       "      <td>Tropical Cyclone</td>\n",
       "      <td>Sep 24, 2024</td>\n",
       "      <td>Sep 29, 2024</td>\n",
       "      <td>Category 4 Hurricane Helene with 140 mph susta...</td>\n",
       "      <td>$78.7 CI</td>\n",
       "      <td>219</td>\n",
       "    </tr>\n",
       "  </tbody>\n",
       "</table>\n",
       "</div>"
      ],
      "text/plain": [
       "                                          event_name     disaster_type  \\\n",
       "0  Southern/Eastern/Northwestern Drought and Heat...           Drought   \n",
       "1  Southern/Eastern/Northwestern Drought and Heat...           Drought   \n",
       "2                                   Hurricane Milton  Tropical Cyclone   \n",
       "3                                   Hurricane Milton  Tropical Cyclone   \n",
       "4                                   Hurricane Helene  Tropical Cyclone   \n",
       "\n",
       "     begin_date      end_date  \\\n",
       "0   Jan 1, 2024  Dec 31, 2024   \n",
       "1   Jan 1, 2024  Dec 31, 2024   \n",
       "2   Oct 9, 2024  Oct 10, 2024   \n",
       "3   Oct 9, 2024  Oct 10, 2024   \n",
       "4  Sep 24, 2024  Sep 29, 2024   \n",
       "\n",
       "                                             details      cost deaths  \n",
       "0  Drought conditions impacted many Southern, Eas...   $5.4 CI    136  \n",
       "1  Drought conditions impacted many Southern, Eas...   $5.3 CI    136  \n",
       "2  Category 3 Hurricane Milton with 120 mph susta...  $34.3 CI     32  \n",
       "3  Category 3 Hurricane Milton with 120 mph susta...  $34.3 CI     32  \n",
       "4  Category 4 Hurricane Helene with 140 mph susta...  $78.7 CI    219  "
      ]
     },
     "execution_count": 12,
     "metadata": {},
     "output_type": "execute_result"
    }
   ],
   "source": [
    "import pandas as pd\n",
    "\n",
    "df = pd.json_normalize(disaster_list)\n",
    "df.head()"
   ]
  },
  {
   "cell_type": "code",
   "execution_count": 13,
   "id": "ea67c472-64fd-4a7d-8359-ae9038708195",
   "metadata": {},
   "outputs": [
    {
     "data": {
      "text/plain": [
       "(749, 7)"
      ]
     },
     "execution_count": 13,
     "metadata": {},
     "output_type": "execute_result"
    }
   ],
   "source": [
    "df.shape"
   ]
  },
  {
   "cell_type": "code",
   "execution_count": 14,
   "id": "8e6f6402-7263-4d1d-bfba-a0cd67a6d881",
   "metadata": {},
   "outputs": [
    {
     "data": {
      "text/plain": [
       "event_name       object\n",
       "disaster_type    object\n",
       "begin_date       object\n",
       "end_date         object\n",
       "details          object\n",
       "cost             object\n",
       "deaths           object\n",
       "dtype: object"
      ]
     },
     "execution_count": 14,
     "metadata": {},
     "output_type": "execute_result"
    }
   ],
   "source": [
    "df.dtypes"
   ]
  },
  {
   "cell_type": "code",
   "execution_count": 15,
   "id": "db1cb239-119f-49e2-a324-704d365bab3d",
   "metadata": {},
   "outputs": [],
   "source": [
    "df.to_csv('billion_dollar_disasters_scrape.csv', index=False)"
   ]
  }
 ],
 "metadata": {
  "kernelspec": {
   "display_name": "Python 3 (ipykernel)",
   "language": "python",
   "name": "python3"
  },
  "language_info": {
   "codemirror_mode": {
    "name": "ipython",
    "version": 3
   },
   "file_extension": ".py",
   "mimetype": "text/x-python",
   "name": "python",
   "nbconvert_exporter": "python",
   "pygments_lexer": "ipython3",
   "version": "3.12.7"
  }
 },
 "nbformat": 4,
 "nbformat_minor": 5
}
